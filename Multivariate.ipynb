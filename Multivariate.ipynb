{
 "cells": [
  {
   "cell_type": "markdown",
   "metadata": {},
   "source": [
    "<h1>DISCERN</h1>\n",
    "<h2>Diversity-based Selection of Centroids and k-Estimation for Rapid Non-stochastic clustering</h2>\n",
    "<h3>Applying DISCERN to small multivariate datasets</h3>"
   ]
  },
  {
   "cell_type": "markdown",
   "metadata": {},
   "source": [
    "<h3>1. Import dependencies</h3>"
   ]
  },
  {
   "cell_type": "code",
   "execution_count": 1,
   "metadata": {},
   "outputs": [],
   "source": [
    "import pandas as pd\n",
    "import numpy as np\n",
    "\n",
    "from sklearn import preprocessing\n",
    "from sklearn.metrics import silhouette_score\n",
    "\n",
    "from DISCERN import DISCERN\n",
    "from utils.scores import purity_score as purity\n",
    "from utils.SphericalKMeans import spherical_k_means"
   ]
  },
  {
   "cell_type": "markdown",
   "metadata": {},
   "source": [
    "<h3>2. Import data</h3>"
   ]
  },
  {
   "cell_type": "code",
   "execution_count": 2,
   "metadata": {},
   "outputs": [],
   "source": [
    "iris_dataset = pd.read_csv('path_to_iris/iris.csv', na_values='?')\n",
    "iris_dataset = iris_dataset.fillna(0)\n",
    "\n",
    "X_1 = iris_dataset.iloc[:,0:len(iris_dataset.columns)-1].to_numpy()\n",
    "y_tmp_1 = iris_dataset.iloc[:,len(iris_dataset.columns)-1].to_numpy()\n",
    "label_encoder_1 = preprocessing.LabelEncoder()\n",
    "y_1 = label_encoder_1.fit_transform(np.asarray(y_tmp_1))\n",
    "iris_num_class = len(np.unique(y_1))"
   ]
  },
  {
   "cell_type": "code",
   "execution_count": 3,
   "metadata": {},
   "outputs": [],
   "source": [
    "wine_dataset = pd.read_csv('path_to_wine/wine.csv', na_values='?')\n",
    "wine_dataset = wine_dataset.fillna(0)\n",
    "\n",
    "X_2 = wine_dataset.iloc[:,0:len(wine_dataset.columns)-1].to_numpy()\n",
    "y_tmp_2 = wine_dataset.iloc[:,len(wine_dataset.columns)-1].to_numpy()\n",
    "label_encoder_2 = preprocessing.LabelEncoder()\n",
    "y_2 = label_encoder_2.fit_transform(np.asarray(y_tmp_2))\n",
    "wine_num_class = len(np.unique(y_2))"
   ]
  },
  {
   "cell_type": "markdown",
   "metadata": {},
   "source": [
    "<h3>3. Running the algorithm</h3>"
   ]
  },
  {
   "cell_type": "markdown",
   "metadata": {},
   "source": [
    "<h3>Iris</h3>"
   ]
  },
  {
   "cell_type": "code",
   "execution_count": 4,
   "metadata": {},
   "outputs": [],
   "source": [
    "discern_iris = DISCERN(metric='cosine')"
   ]
  },
  {
   "cell_type": "code",
   "execution_count": 5,
   "metadata": {},
   "outputs": [],
   "source": [
    "discern_iris.fit(X_1)"
   ]
  },
  {
   "cell_type": "code",
   "execution_count": 6,
   "metadata": {},
   "outputs": [],
   "source": [
    "iris_silhouette = silhouette_score(X_1, discern_iris.labels_, metric='cosine')\n",
    "iris_accuracy = purity(y_1, discern_iris.labels_)*100\n",
    "iris_num_clusters = len(np.unique(discern_iris.labels_))"
   ]
  },
  {
   "cell_type": "code",
   "execution_count": 7,
   "metadata": {
    "scrolled": true
   },
   "outputs": [
    {
     "name": "stdout",
     "output_type": "stream",
     "text": [
      "[Unsupervised Performance] Silhouette Score: 0.7489936586396754\n",
      "[Supervised   Performance] Accuracy: 96.66666666666667 %\n",
      "Predicted number of clusters: 3\n",
      "Number of classes: 3\n"
     ]
    }
   ],
   "source": [
    "print(\"[Unsupervised Performance] Silhouette Score: {}\".format(iris_silhouette))\n",
    "print(\"[Supervised   Performance] Accuracy: {} %\".format(iris_accuracy))\n",
    "print(\"Predicted number of clusters: {}\".format(iris_num_clusters))\n",
    "print(\"Number of classes: {}\".format(iris_num_class))"
   ]
  },
  {
   "cell_type": "markdown",
   "metadata": {},
   "source": [
    "Notice that <b>Iris</b> was clustered using cosine similarity as opposed to wine which is clustered using the default metric, Euclidean distance. Do note that the accuracy level is 96.67 here while it was reported at 97.3 in the paper. This is because for those particular experiments, we implemented K-Means ourselves and therefore had full control over the distance metric. However, in this implementation, instead of changing the metric, we normalize the data before clustering them (divide each sample by its norm so that all of them are unitary):\n",
    "\n",
    "$X = [ x_1, x_2, ..., x_n ]$\n",
    "\n",
    "$x_i^{\\prime} = \\frac{x_i}{\\| x_i \\|_2^2}$\n",
    "\n",
    "This will result in an almost identical clustering when clustered using Euclidean distance. However, there may be slight discrepancies at times, which is what we have here.\n",
    "\n",
    "To simplify, when the metric is set to <b>cosine</b>:\n",
    "<table style=\"width: 100%\">\n",
    "    <tr>\n",
    "        <th>In the paper</th>\n",
    "        <th>The implementation above</th>\n",
    "    </tr>\n",
    "    <tr>\n",
    "        <td>$d(x, y) = \\frac{x^T y}{\\|x\\|_2^2 \\|y \\|_2^2}$</td>\n",
    "        <td>$d(x, y) = \\| \\frac{x}{\\| x\\|_2^2} - \\frac{y}{\\| y\\|_2^2} \\|$</td>\n",
    "    </tr>\n",
    "</table>"
   ]
  },
  {
   "cell_type": "markdown",
   "metadata": {},
   "source": [
    "However, we can reproduce the results if we run K-Means with cosine distance manually, after DISCERN's done finding the initial centroids:"
   ]
  },
  {
   "cell_type": "code",
   "execution_count": 8,
   "metadata": {},
   "outputs": [],
   "source": [
    "discern_iris.partial_fit(X_1)\n",
    "cluster_centers = discern_iris.cluster_centers_"
   ]
  },
  {
   "cell_type": "code",
   "execution_count": 9,
   "metadata": {},
   "outputs": [],
   "source": [
    "labels_, cluster_centers_ = spherical_k_means(X_1, cluster_centers)"
   ]
  },
  {
   "cell_type": "code",
   "execution_count": 10,
   "metadata": {},
   "outputs": [],
   "source": [
    "iris_spherical_silhouette = silhouette_score(X_1, labels_, metric='cosine')\n",
    "iris_spherical_accuracy = purity(y_1, labels_)*100"
   ]
  },
  {
   "cell_type": "code",
   "execution_count": 11,
   "metadata": {
    "scrolled": true
   },
   "outputs": [
    {
     "name": "stdout",
     "output_type": "stream",
     "text": [
      "[Unsupervised Performance] Silhouette Score: 0.7484647230660484\n",
      "[Supervised   Performance] Accuracy: 97.33333333333334 %\n"
     ]
    }
   ],
   "source": [
    "print(\"[Unsupervised Performance] Silhouette Score: {}\".format(iris_spherical_silhouette))\n",
    "print(\"[Supervised   Performance] Accuracy: {} %\".format(iris_spherical_accuracy))"
   ]
  },
  {
   "cell_type": "markdown",
   "metadata": {},
   "source": [
    "And the same results from the paper are now reproduced."
   ]
  },
  {
   "cell_type": "markdown",
   "metadata": {},
   "source": [
    "<h3>Wine</h3>"
   ]
  },
  {
   "cell_type": "code",
   "execution_count": 12,
   "metadata": {},
   "outputs": [],
   "source": [
    "discern_wine = DISCERN()"
   ]
  },
  {
   "cell_type": "code",
   "execution_count": 13,
   "metadata": {},
   "outputs": [],
   "source": [
    "discern_wine.fit(X_2)"
   ]
  },
  {
   "cell_type": "code",
   "execution_count": 14,
   "metadata": {},
   "outputs": [],
   "source": [
    "wine_silhouette = silhouette_score(X_2, discern_wine.labels_, metric='sqeuclidean')\n",
    "wine_accuracy = purity(y_2, discern_wine.labels_)*100\n",
    "wine_num_clusters = len(discern_wine.cluster_centers_)"
   ]
  },
  {
   "cell_type": "code",
   "execution_count": 15,
   "metadata": {
    "scrolled": true
   },
   "outputs": [
    {
     "name": "stdout",
     "output_type": "stream",
     "text": [
      "[Unsupervised Performance] Silhouette Score: 0.7322991109041611\n",
      "[Supervised   Performance] Accuracy: 70.2247191011236 %\n",
      "Predicted number of clusters: 3\n",
      "Number of classes: 3\n"
     ]
    }
   ],
   "source": [
    "print(\"[Unsupervised Performance] Silhouette Score: {}\".format(wine_silhouette))\n",
    "print(\"[Supervised   Performance] Accuracy: {} %\".format(wine_accuracy))\n",
    "print(\"Predicted number of clusters: {}\".format(wine_num_clusters))\n",
    "print(\"Number of classes: {}\".format(wine_num_class))"
   ]
  }
 ],
 "metadata": {
  "kernelspec": {
   "display_name": "Python 3",
   "language": "python",
   "name": "python3"
  },
  "language_info": {
   "codemirror_mode": {
    "name": "ipython",
    "version": 3
   },
   "file_extension": ".py",
   "mimetype": "text/x-python",
   "name": "python",
   "nbconvert_exporter": "python",
   "pygments_lexer": "ipython3",
   "version": "3.8.5"
  }
 },
 "nbformat": 4,
 "nbformat_minor": 2
}